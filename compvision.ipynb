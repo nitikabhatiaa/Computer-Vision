{
  "nbformat": 4,
  "nbformat_minor": 0,
  "metadata": {
    "colab": {
      "provenance": []
    },
    "kernelspec": {
      "name": "python3",
      "display_name": "Python 3"
    },
    "language_info": {
      "name": "python"
    }
  },
  "cells": [
    {
      "cell_type": "code",
      "execution_count": null,
      "metadata": {
        "colab": {
          "base_uri": "https://localhost:8080/"
        },
        "id": "7lhLEsugRdtq",
        "outputId": "a2111ffe-903c-478c-a8be-07d3d4e08f20"
      },
      "outputs": [
        {
          "output_type": "stream",
          "name": "stdout",
          "text": [
            "Collecting pydicom\n",
            "  Downloading pydicom-3.0.1-py3-none-any.whl.metadata (9.4 kB)\n",
            "Requirement already satisfied: nibabel in /usr/local/lib/python3.11/dist-packages (5.3.2)\n",
            "Requirement already satisfied: scikit-learn in /usr/local/lib/python3.11/dist-packages (1.6.1)\n",
            "Requirement already satisfied: matplotlib in /usr/local/lib/python3.11/dist-packages (3.10.0)\n",
            "Requirement already satisfied: opencv-python in /usr/local/lib/python3.11/dist-packages (4.11.0.86)\n",
            "Requirement already satisfied: tensorflow in /usr/local/lib/python3.11/dist-packages (2.18.0)\n",
            "Requirement already satisfied: keras in /usr/local/lib/python3.11/dist-packages (3.8.0)\n",
            "Requirement already satisfied: importlib-resources>=5.12 in /usr/local/lib/python3.11/dist-packages (from nibabel) (6.5.2)\n",
            "Requirement already satisfied: numpy>=1.22 in /usr/local/lib/python3.11/dist-packages (from nibabel) (2.0.2)\n",
            "Requirement already satisfied: packaging>=20 in /usr/local/lib/python3.11/dist-packages (from nibabel) (24.2)\n",
            "Requirement already satisfied: typing-extensions>=4.6 in /usr/local/lib/python3.11/dist-packages (from nibabel) (4.13.1)\n",
            "Requirement already satisfied: scipy>=1.6.0 in /usr/local/lib/python3.11/dist-packages (from scikit-learn) (1.14.1)\n",
            "Requirement already satisfied: joblib>=1.2.0 in /usr/local/lib/python3.11/dist-packages (from scikit-learn) (1.4.2)\n",
            "Requirement already satisfied: threadpoolctl>=3.1.0 in /usr/local/lib/python3.11/dist-packages (from scikit-learn) (3.6.0)\n",
            "Requirement already satisfied: contourpy>=1.0.1 in /usr/local/lib/python3.11/dist-packages (from matplotlib) (1.3.1)\n",
            "Requirement already satisfied: cycler>=0.10 in /usr/local/lib/python3.11/dist-packages (from matplotlib) (0.12.1)\n",
            "Requirement already satisfied: fonttools>=4.22.0 in /usr/local/lib/python3.11/dist-packages (from matplotlib) (4.57.0)\n",
            "Requirement already satisfied: kiwisolver>=1.3.1 in /usr/local/lib/python3.11/dist-packages (from matplotlib) (1.4.8)\n",
            "Requirement already satisfied: pillow>=8 in /usr/local/lib/python3.11/dist-packages (from matplotlib) (11.1.0)\n",
            "Requirement already satisfied: pyparsing>=2.3.1 in /usr/local/lib/python3.11/dist-packages (from matplotlib) (3.2.3)\n",
            "Requirement already satisfied: python-dateutil>=2.7 in /usr/local/lib/python3.11/dist-packages (from matplotlib) (2.8.2)\n",
            "Requirement already satisfied: absl-py>=1.0.0 in /usr/local/lib/python3.11/dist-packages (from tensorflow) (1.4.0)\n",
            "Requirement already satisfied: astunparse>=1.6.0 in /usr/local/lib/python3.11/dist-packages (from tensorflow) (1.6.3)\n",
            "Requirement already satisfied: flatbuffers>=24.3.25 in /usr/local/lib/python3.11/dist-packages (from tensorflow) (25.2.10)\n",
            "Requirement already satisfied: gast!=0.5.0,!=0.5.1,!=0.5.2,>=0.2.1 in /usr/local/lib/python3.11/dist-packages (from tensorflow) (0.6.0)\n",
            "Requirement already satisfied: google-pasta>=0.1.1 in /usr/local/lib/python3.11/dist-packages (from tensorflow) (0.2.0)\n",
            "Requirement already satisfied: libclang>=13.0.0 in /usr/local/lib/python3.11/dist-packages (from tensorflow) (18.1.1)\n",
            "Requirement already satisfied: opt-einsum>=2.3.2 in /usr/local/lib/python3.11/dist-packages (from tensorflow) (3.4.0)\n",
            "Requirement already satisfied: protobuf!=4.21.0,!=4.21.1,!=4.21.2,!=4.21.3,!=4.21.4,!=4.21.5,<6.0.0dev,>=3.20.3 in /usr/local/lib/python3.11/dist-packages (from tensorflow) (5.29.4)\n",
            "Requirement already satisfied: requests<3,>=2.21.0 in /usr/local/lib/python3.11/dist-packages (from tensorflow) (2.32.3)\n",
            "Requirement already satisfied: setuptools in /usr/local/lib/python3.11/dist-packages (from tensorflow) (75.2.0)\n",
            "Requirement already satisfied: six>=1.12.0 in /usr/local/lib/python3.11/dist-packages (from tensorflow) (1.17.0)\n",
            "Requirement already satisfied: termcolor>=1.1.0 in /usr/local/lib/python3.11/dist-packages (from tensorflow) (3.0.1)\n",
            "Requirement already satisfied: wrapt>=1.11.0 in /usr/local/lib/python3.11/dist-packages (from tensorflow) (1.17.2)\n",
            "Requirement already satisfied: grpcio<2.0,>=1.24.3 in /usr/local/lib/python3.11/dist-packages (from tensorflow) (1.71.0)\n",
            "Requirement already satisfied: tensorboard<2.19,>=2.18 in /usr/local/lib/python3.11/dist-packages (from tensorflow) (2.18.0)\n",
            "Requirement already satisfied: h5py>=3.11.0 in /usr/local/lib/python3.11/dist-packages (from tensorflow) (3.13.0)\n",
            "Requirement already satisfied: ml-dtypes<0.5.0,>=0.4.0 in /usr/local/lib/python3.11/dist-packages (from tensorflow) (0.4.1)\n",
            "Requirement already satisfied: tensorflow-io-gcs-filesystem>=0.23.1 in /usr/local/lib/python3.11/dist-packages (from tensorflow) (0.37.1)\n",
            "Requirement already satisfied: rich in /usr/local/lib/python3.11/dist-packages (from keras) (13.9.4)\n",
            "Requirement already satisfied: namex in /usr/local/lib/python3.11/dist-packages (from keras) (0.0.8)\n",
            "Requirement already satisfied: optree in /usr/local/lib/python3.11/dist-packages (from keras) (0.14.1)\n",
            "Requirement already satisfied: wheel<1.0,>=0.23.0 in /usr/local/lib/python3.11/dist-packages (from astunparse>=1.6.0->tensorflow) (0.45.1)\n",
            "Requirement already satisfied: charset-normalizer<4,>=2 in /usr/local/lib/python3.11/dist-packages (from requests<3,>=2.21.0->tensorflow) (3.4.1)\n",
            "Requirement already satisfied: idna<4,>=2.5 in /usr/local/lib/python3.11/dist-packages (from requests<3,>=2.21.0->tensorflow) (3.10)\n",
            "Requirement already satisfied: urllib3<3,>=1.21.1 in /usr/local/lib/python3.11/dist-packages (from requests<3,>=2.21.0->tensorflow) (2.3.0)\n",
            "Requirement already satisfied: certifi>=2017.4.17 in /usr/local/lib/python3.11/dist-packages (from requests<3,>=2.21.0->tensorflow) (2025.1.31)\n",
            "Requirement already satisfied: markdown>=2.6.8 in /usr/local/lib/python3.11/dist-packages (from tensorboard<2.19,>=2.18->tensorflow) (3.7)\n",
            "Requirement already satisfied: tensorboard-data-server<0.8.0,>=0.7.0 in /usr/local/lib/python3.11/dist-packages (from tensorboard<2.19,>=2.18->tensorflow) (0.7.2)\n",
            "Requirement already satisfied: werkzeug>=1.0.1 in /usr/local/lib/python3.11/dist-packages (from tensorboard<2.19,>=2.18->tensorflow) (3.1.3)\n",
            "Requirement already satisfied: markdown-it-py>=2.2.0 in /usr/local/lib/python3.11/dist-packages (from rich->keras) (3.0.0)\n",
            "Requirement already satisfied: pygments<3.0.0,>=2.13.0 in /usr/local/lib/python3.11/dist-packages (from rich->keras) (2.18.0)\n",
            "Requirement already satisfied: mdurl~=0.1 in /usr/local/lib/python3.11/dist-packages (from markdown-it-py>=2.2.0->rich->keras) (0.1.2)\n",
            "Requirement already satisfied: MarkupSafe>=2.1.1 in /usr/local/lib/python3.11/dist-packages (from werkzeug>=1.0.1->tensorboard<2.19,>=2.18->tensorflow) (3.0.2)\n",
            "Downloading pydicom-3.0.1-py3-none-any.whl (2.4 MB)\n",
            "\u001b[2K   \u001b[90m━━━━━━━━━━━━━━━━━━━━━━━━━━━━━━━━━━━━━━━━\u001b[0m \u001b[32m2.4/2.4 MB\u001b[0m \u001b[31m19.4 MB/s\u001b[0m eta \u001b[36m0:00:00\u001b[0m\n",
            "\u001b[?25hInstalling collected packages: pydicom\n",
            "Successfully installed pydicom-3.0.1\n"
          ]
        }
      ],
      "source": [
        "!pip install pydicom nibabel scikit-learn matplotlib opencv-python tensorflow keras\n"
      ]
    },
    {
      "cell_type": "code",
      "source": [
        "import numpy as np\n",
        "import matplotlib.pyplot as plt\n",
        "import os\n",
        "import cv2\n",
        "import pydicom\n",
        "import nibabel as nib\n",
        "from sklearn.model_selection import train_test_split\n",
        "from tensorflow.keras.models import Sequential\n",
        "from tensorflow.keras.layers import Conv2D, MaxPooling2D, Flatten, Dense, Dropout\n"
      ],
      "metadata": {
        "id": "dLzZIfPERubJ"
      },
      "execution_count": null,
      "outputs": []
    },
    {
      "cell_type": "code",
      "source": [
        "from google.colab import drive\n",
        "drive.mount('/content/drive')\n"
      ],
      "metadata": {
        "colab": {
          "base_uri": "https://localhost:8080/"
        },
        "id": "XJ4E1BaAPfkZ",
        "outputId": "c506ada1-9da3-4936-8c3a-71f136922259"
      },
      "execution_count": null,
      "outputs": [
        {
          "output_type": "stream",
          "name": "stdout",
          "text": [
            "Mounted at /content/drive\n"
          ]
        }
      ]
    },
    {
      "cell_type": "code",
      "source": [
        "!mkdir -p \"/content/drive/MyDrive/LUNA16\"\n",
        "!wget -O \"/content/drive/MyDrive/LUNA16/annotations.csv\" \"https://zenodo.org/records/3723295/files/annotations.csv?download=1\"\n"
      ],
      "metadata": {
        "colab": {
          "base_uri": "https://localhost:8080/"
        },
        "id": "OiT2Sx1HPvAF",
        "outputId": "f629a1fa-c94e-410a-ecef-8ff9bc145a11"
      },
      "execution_count": null,
      "outputs": [
        {
          "output_type": "stream",
          "name": "stdout",
          "text": [
            "--2025-04-15 14:31:39--  https://zenodo.org/records/3723295/files/annotations.csv?download=1\n",
            "Resolving zenodo.org (zenodo.org)... 188.185.48.194, 188.185.43.25, 188.185.45.92, ...\n",
            "Connecting to zenodo.org (zenodo.org)|188.185.48.194|:443... connected.\n",
            "HTTP request sent, awaiting response... 200 OK\n",
            "Length: 136986 (134K) [text/plain]\n",
            "Saving to: ‘/content/drive/MyDrive/LUNA16/annotations.csv’\n",
            "\n",
            "/content/drive/MyDr 100%[===================>] 133.78K   293KB/s    in 0.5s    \n",
            "\n",
            "2025-04-15 14:31:40 (293 KB/s) - ‘/content/drive/MyDrive/LUNA16/annotations.csv’ saved [136986/136986]\n",
            "\n"
          ]
        }
      ]
    },
    {
      "cell_type": "code",
      "source": [
        "!wget -O \"/content/drive/MyDrive/LUNA16/subset0.zip\" \"https://zenodo.org/records/3723295/files/subset0.zip?download=1\"\n",
        "!wget -O \"/content/drive/MyDrive/LUNA16/subset1.zip\" \"https://zenodo.org/records/3723295/files/subset1.zip?download=1\"\n",
        "!wget -O \"/content/drive/MyDrive/LUNA16/subset2.zip\" \"https://zenodo.org/records/3723295/files/subset2.zip?download=1\"\n",
        "!wget -O \"/content/drive/MyDrive/LUNA16/subset3.zip\" \"https://zenodo.org/records/3723295/files/subset3.zip?download=1\"\n",
        "!wget -O \"/content/drive/MyDrive/LUNA16/subset4.zip\" \"https://zenodo.org/records/3723295/files/subset4.zip?download=1\"\n",
        "!wget -O \"/content/drive/MyDrive/LUNA16/subset5.zip\" \"https://zenodo.org/records/3723295/files/subset5.zip?download=1\"\n",
        "!wget -O \"/content/drive/MyDrive/LUNA16/subset6.zip\" \"https://zenodo.org/records/3723295/files/subset6.zip?download=1\"\n"
      ],
      "metadata": {
        "colab": {
          "base_uri": "https://localhost:8080/"
        },
        "id": "hrrtO5GfQrZ1",
        "outputId": "68710fb8-4293-4f68-e9e9-49c41c63e20c"
      },
      "execution_count": null,
      "outputs": [
        {
          "output_type": "stream",
          "name": "stdout",
          "text": [
            "--2025-04-15 14:31:44--  https://zenodo.org/records/3723295/files/subset0.zip?download=1\n",
            "Resolving zenodo.org (zenodo.org)... 188.185.48.194, 188.185.43.25, 188.185.45.92, ...\n",
            "Connecting to zenodo.org (zenodo.org)|188.185.48.194|:443... connected.\n",
            "HTTP request sent, awaiting response... 200 OK\n",
            "Length: 6811924508 (6.3G) [application/octet-stream]\n",
            "Saving to: ‘/content/drive/MyDrive/LUNA16/subset0.zip’\n",
            "\n",
            "          /content/   1%[                    ]  79.08M   772KB/s    eta 2h 29m ^C\n",
            "--2025-04-15 14:33:35--  https://zenodo.org/records/3723295/files/subset1.zip?download=1\n",
            "Resolving zenodo.org (zenodo.org)... 188.185.45.92, 188.185.48.194, 188.185.43.25, ...\n",
            "Connecting to zenodo.org (zenodo.org)|188.185.45.92|:443... connected.\n",
            "HTTP request sent, awaiting response... 200 OK\n",
            "Length: 6334778552 (5.9G) [application/octet-stream]\n",
            "Saving to: ‘/content/drive/MyDrive/LUNA16/subset1.zip’\n",
            "\n",
            "ent/drive/MyDrive/L   0%[                    ]   2.53M   646KB/s    eta 2h 52m ^C\n",
            "--2025-04-15 14:33:41--  https://zenodo.org/records/3723295/files/subset2.zip?download=1\n",
            "Resolving zenodo.org (zenodo.org)... 188.185.45.92, 188.185.48.194, 188.185.43.25, ...\n",
            "Connecting to zenodo.org (zenodo.org)|188.185.45.92|:443... connected.\n",
            "HTTP request sent, awaiting response... 200 OK\n",
            "Length: 7257937108 (6.8G) [application/octet-stream]\n",
            "Saving to: ‘/content/drive/MyDrive/LUNA16/subset2.zip’\n",
            "\n",
            "         /content/d   0%[                    ]  48.71K   146KB/s               ^C\n",
            "--2025-04-15 14:33:42--  https://zenodo.org/records/3723295/files/subset3.zip?download=1\n",
            "Resolving zenodo.org (zenodo.org)... 188.185.45.92, 188.185.48.194, 188.185.43.25, ...\n",
            "Connecting to zenodo.org (zenodo.org)|188.185.45.92|:443... connected.\n",
            "HTTP request sent, awaiting response... 200 OK\n",
            "Length: 6896620114 (6.4G) [application/octet-stream]\n",
            "Saving to: ‘/content/drive/MyDrive/LUNA16/subset3.zip’\n",
            "\n",
            "/LUNA16/subset3.zip   0%[                    ]   5.75M   650KB/s    eta 3h 5m  ^C\n",
            "--2025-04-15 14:33:52--  https://zenodo.org/records/3723295/files/subset4.zip?download=1\n",
            "Resolving zenodo.org (zenodo.org)... 188.185.43.25, 188.185.45.92, 188.185.48.194, ...\n",
            "Connecting to zenodo.org (zenodo.org)|188.185.43.25|:443... connected.\n",
            "HTTP request sent, awaiting response... 200 OK\n",
            "Length: 6856144330 (6.4G) [application/octet-stream]\n",
            "Saving to: ‘/content/drive/MyDrive/LUNA16/subset4.zip’\n",
            "\n",
            "        /content/dr   0%[                    ] 170.26K   267KB/s               ^C\n",
            "--2025-04-15 14:33:54--  https://zenodo.org/records/3723295/files/subset5.zip?download=1\n",
            "Resolving zenodo.org (zenodo.org)... 188.185.43.25, 188.185.45.92, 188.185.48.194, ...\n",
            "Connecting to zenodo.org (zenodo.org)|188.185.43.25|:443... connected.\n",
            "HTTP request sent, awaiting response... 200 OK\n",
            "Length: 6610460097 (6.2G) [application/octet-stream]\n",
            "Saving to: ‘/content/drive/MyDrive/LUNA16/subset5.zip’\n",
            "\n",
            "          /content/   0%[                    ]       0  --.-KB/s               ^C\n",
            "--2025-04-15 14:33:55--  https://zenodo.org/records/3723295/files/subset6.zip?download=1\n",
            "Resolving zenodo.org (zenodo.org)... 188.185.43.25, 188.185.45.92, 188.185.48.194, ...\n",
            "Connecting to zenodo.org (zenodo.org)|188.185.43.25|:443... connected.\n",
            "HTTP request sent, awaiting response... 200 OK\n",
            "Length: 6531050274 (6.1G) [application/octet-stream]\n",
            "Saving to: ‘/content/drive/MyDrive/LUNA16/subset6.zip’\n",
            "\n",
            "      /content/driv   0%[                    ] 557.28K   443KB/s               ^C\n"
          ]
        }
      ]
    },
    {
      "cell_type": "code",
      "source": [
        "!wget -O \"/content/drive/MyDrive/LUNA16/candidates.csv\" \"https://zenodo.org/records/3723295/files/candidates.csv?download=1\"\n"
      ],
      "metadata": {
        "colab": {
          "base_uri": "https://localhost:8080/"
        },
        "id": "baN9Bs1Yn5pL",
        "outputId": "19d61769-aa10-456c-e142-9f28d9757723"
      },
      "execution_count": null,
      "outputs": [
        {
          "output_type": "stream",
          "name": "stdout",
          "text": [
            "--2025-04-13 19:28:06--  https://zenodo.org/records/3723295/files/candidates.csv?download=1\n",
            "Resolving zenodo.org (zenodo.org)... 188.185.45.92, 188.185.48.194, 188.185.43.25, ...\n",
            "Connecting to zenodo.org (zenodo.org)|188.185.45.92|:443... connected.\n",
            "HTTP request sent, awaiting response... 200 OK\n",
            "Length: 55427881 (53M) [text/plain]\n",
            "Saving to: ‘/content/drive/MyDrive/LUNA16/candidates.csv’\n",
            "\n",
            "/content/drive/MyDr 100%[===================>]  52.86M  17.1MB/s    in 3.1s    \n",
            "\n",
            "2025-04-13 19:28:10 (17.1 MB/s) - ‘/content/drive/MyDrive/LUNA16/candidates.csv’ saved [55427881/55427881]\n",
            "\n"
          ]
        }
      ]
    },
    {
      "cell_type": "code",
      "source": [
        "!wget -O \"/content/drive/MyDrive/LUNA16/candidates_V2.zip\" \"https://zenodo.org/records/3723295/files/candidates_V2.zip?download=1\"\n"
      ],
      "metadata": {
        "colab": {
          "base_uri": "https://localhost:8080/"
        },
        "id": "RmiV6BiroAfW",
        "outputId": "15cdc0eb-a4a6-45b6-d99c-b79c25f77fce"
      },
      "execution_count": null,
      "outputs": [
        {
          "output_type": "stream",
          "name": "stdout",
          "text": [
            "--2025-04-13 19:28:24--  https://zenodo.org/records/3723295/files/candidates_V2.zip?download=1\n",
            "Resolving zenodo.org (zenodo.org)... 188.185.45.92, 188.185.48.194, 188.185.43.25, ...\n",
            "Connecting to zenodo.org (zenodo.org)|188.185.45.92|:443... connected.\n",
            "HTTP request sent, awaiting response... 200 OK\n",
            "Length: 11439452 (11M) [application/octet-stream]\n",
            "Saving to: ‘/content/drive/MyDrive/LUNA16/candidates_V2.zip’\n",
            "\n",
            "/content/drive/MyDr 100%[===================>]  10.91M  7.93MB/s    in 1.4s    \n",
            "\n",
            "2025-04-13 19:28:26 (7.93 MB/s) - ‘/content/drive/MyDrive/LUNA16/candidates_V2.zip’ saved [11439452/11439452]\n",
            "\n"
          ]
        }
      ]
    },
    {
      "cell_type": "code",
      "source": [
        "!wget -O \"/content/drive/MyDrive/LUNA16/evaluationScript.zip\" \"https://zenodo.org/records/3723295/files/evaluationScript.zip?download=1\"\n"
      ],
      "metadata": {
        "colab": {
          "base_uri": "https://localhost:8080/"
        },
        "id": "z88EuHB7oGLI",
        "outputId": "73202a1d-c49a-4385-8b87-ea01f8eb0bc0"
      },
      "execution_count": null,
      "outputs": [
        {
          "output_type": "stream",
          "name": "stdout",
          "text": [
            "--2025-04-13 19:28:38--  https://zenodo.org/records/3723295/files/evaluationScript.zip?download=1\n",
            "Resolving zenodo.org (zenodo.org)... 188.185.43.25, 188.185.48.194, 188.185.45.92, ...\n",
            "Connecting to zenodo.org (zenodo.org)|188.185.43.25|:443... connected.\n",
            "HTTP request sent, awaiting response... 200 OK\n",
            "Length: 21803068 (21M) [application/octet-stream]\n",
            "Saving to: ‘/content/drive/MyDrive/LUNA16/evaluationScript.zip’\n",
            "\n",
            "/content/drive/MyDr 100%[===================>]  20.79M  10.8MB/s    in 1.9s    \n",
            "\n",
            "2025-04-13 19:28:41 (10.8 MB/s) - ‘/content/drive/MyDrive/LUNA16/evaluationScript.zip’ saved [21803068/21803068]\n",
            "\n"
          ]
        }
      ]
    },
    {
      "cell_type": "code",
      "source": [
        "!wget -O \"/content/drive/MyDrive/LUNA16/sampleSubmission.csv\" \"https://zenodo.org/records/3723295/files/sampleSubmission.csv?download=1\"\n"
      ],
      "metadata": {
        "colab": {
          "base_uri": "https://localhost:8080/"
        },
        "id": "ID2p1PHQoINh",
        "outputId": "de16fd69-31da-4e3c-d6b8-7220c7433c3f"
      },
      "execution_count": null,
      "outputs": [
        {
          "output_type": "stream",
          "name": "stdout",
          "text": [
            "--2025-04-13 19:28:46--  https://zenodo.org/records/3723295/files/sampleSubmission.csv?download=1\n",
            "Resolving zenodo.org (zenodo.org)... 188.185.43.25, 188.185.48.194, 188.185.45.92, ...\n",
            "Connecting to zenodo.org (zenodo.org)|188.185.43.25|:443... connected.\n",
            "HTTP request sent, awaiting response... 200 OK\n",
            "Length: 740 [text/plain]\n",
            "Saving to: ‘/content/drive/MyDrive/LUNA16/sampleSubmission.csv’\n",
            "\n",
            "/content/drive/MyDr 100%[===================>]     740  --.-KB/s    in 0.02s   \n",
            "\n",
            "2025-04-13 19:28:47 (46.6 KB/s) - ‘/content/drive/MyDrive/LUNA16/sampleSubmission.csv’ saved [740/740]\n",
            "\n"
          ]
        }
      ]
    },
    {
      "cell_type": "code",
      "source": [
        "!wget -O \"/content/drive/MyDrive/LUNA16/seg-lungs-LUNA16.zip\" \"https://zenodo.org/records/3723295/files/seg-lungs-LUNA16.zip?download=1\"\n"
      ],
      "metadata": {
        "colab": {
          "base_uri": "https://localhost:8080/"
        },
        "id": "nSCKa-6joLkG",
        "outputId": "d597e023-19e8-42e2-9476-7d4438441c37"
      },
      "execution_count": null,
      "outputs": [
        {
          "output_type": "stream",
          "name": "stdout",
          "text": [
            "--2025-04-13 19:29:08--  https://zenodo.org/records/3723295/files/seg-lungs-LUNA16.zip?download=1\n",
            "Resolving zenodo.org (zenodo.org)... 188.185.43.25, 188.185.45.92, 188.185.48.194, ...\n",
            "Connecting to zenodo.org (zenodo.org)|188.185.43.25|:443... connected.\n",
            "HTTP request sent, awaiting response... 200 OK\n",
            "Length: 303871549 (290M) [application/octet-stream]\n",
            "Saving to: ‘/content/drive/MyDrive/LUNA16/seg-lungs-LUNA16.zip’\n",
            "\n",
            "/content/drive/MyDr 100%[===================>] 289.79M  24.8MB/s    in 14s     \n",
            "\n",
            "2025-04-13 19:29:23 (20.1 MB/s) - ‘/content/drive/MyDrive/LUNA16/seg-lungs-LUNA16.zip’ saved [303871549/303871549]\n",
            "\n"
          ]
        }
      ]
    },
    {
      "cell_type": "code",
      "source": [
        "!mkdir -p /content/LUNA16\n",
        "\n",
        "!unzip \"/content/drive/MyDrive/LUNA16/candidates_V2.zip\" -d \"/content/LUNA16/candidates_V2/\"\n",
        "!unzip \"/content/drive/MyDrive/LUNA16/evaluationScript.zip\" -d \"/content/LUNA16/evaluationScript/\"\n",
        "!unzip \"/content/drive/MyDrive/LUNA16/seg-lungs-LUNA16.zip\" -d \"/content/LUNA16/seg-lungs/\"\n",
        "\n",
        "!unzip \"/content/drive/MyDrive/LUNA16/subset0.zip\" -d \"/content/LUNA16/subset0/\"\n",
        "!unzip \"/content/drive/MyDrive/LUNA16/subset1.zip\" -d \"/content/LUNA16/subset1/\"\n",
        "!unzip \"/content/drive/MyDrive/LUNA16/subset2.zip\" -d \"/content/LUNA16/subset2/\"\n",
        "!unzip \"/content/drive/MyDrive/LUNA16/subset3.zip\" -d \"/content/LUNA16/subset3/\"\n",
        "!unzip \"/content/drive/MyDrive/LUNA16/subset4.zip\" -d \"/content/LUNA16/subset4/\"\n",
        "!unzip \"/content/drive/MyDrive/LUNA16/subset5.zip\" -d \"/content/LUNA16/subset5/\"\n",
        "!unzip \"/content/drive/MyDrive/LUNA16/subset6.zip\" -d \"/content/LUNA16/subset6/\"\n"
      ],
      "metadata": {
        "colab": {
          "base_uri": "https://localhost:8080/"
        },
        "id": "F9VFxP4EsEWq",
        "outputId": "7f965ecd-5195-412f-9b06-a59cde83ca79"
      },
      "execution_count": null,
      "outputs": [
        {
          "output_type": "stream",
          "name": "stdout",
          "text": [
            "unzip:  cannot find or open /content/drive/MyDrive/LUNA16/candidates_V2.zip, /content/drive/MyDrive/LUNA16/candidates_V2.zip.zip or /content/drive/MyDrive/LUNA16/candidates_V2.zip.ZIP.\n",
            "unzip:  cannot find or open /content/drive/MyDrive/LUNA16/evaluationScript.zip, /content/drive/MyDrive/LUNA16/evaluationScript.zip.zip or /content/drive/MyDrive/LUNA16/evaluationScript.zip.ZIP.\n",
            "unzip:  cannot find or open /content/drive/MyDrive/LUNA16/seg-lungs-LUNA16.zip, /content/drive/MyDrive/LUNA16/seg-lungs-LUNA16.zip.zip or /content/drive/MyDrive/LUNA16/seg-lungs-LUNA16.zip.ZIP.\n",
            "unzip:  cannot find or open /content/drive/MyDrive/LUNA16/subset0.zip, /content/drive/MyDrive/LUNA16/subset0.zip.zip or /content/drive/MyDrive/LUNA16/subset0.zip.ZIP.\n",
            "unzip:  cannot find or open /content/drive/MyDrive/LUNA16/subset1.zip, /content/drive/MyDrive/LUNA16/subset1.zip.zip or /content/drive/MyDrive/LUNA16/subset1.zip.ZIP.\n",
            "unzip:  cannot find or open /content/drive/MyDrive/LUNA16/subset2.zip, /content/drive/MyDrive/LUNA16/subset2.zip.zip or /content/drive/MyDrive/LUNA16/subset2.zip.ZIP.\n",
            "unzip:  cannot find or open /content/drive/MyDrive/LUNA16/subset3.zip, /content/drive/MyDrive/LUNA16/subset3.zip.zip or /content/drive/MyDrive/LUNA16/subset3.zip.ZIP.\n",
            "unzip:  cannot find or open /content/drive/MyDrive/LUNA16/subset4.zip, /content/drive/MyDrive/LUNA16/subset4.zip.zip or /content/drive/MyDrive/LUNA16/subset4.zip.ZIP.\n",
            "unzip:  cannot find or open /content/drive/MyDrive/LUNA16/subset5.zip, /content/drive/MyDrive/LUNA16/subset5.zip.zip or /content/drive/MyDrive/LUNA16/subset5.zip.ZIP.\n",
            "unzip:  cannot find or open /content/drive/MyDrive/LUNA16/subset6.zip, /content/drive/MyDrive/LUNA16/subset6.zip.zip or /content/drive/MyDrive/LUNA16/subset6.zip.ZIP.\n"
          ]
        }
      ]
    },
    {
      "cell_type": "code",
      "source": [
        "!pip install SimpleITK\n",
        "import SimpleITK as sitk\n",
        "import numpy as np\n",
        "import os\n",
        "\n",
        "def load_scan(path):\n",
        "    scan = sitk.ReadImage(path)\n",
        "    scan_array = sitk.GetArrayFromImage(scan)  # shape: [slices, height, width]\n",
        "    return scan_array\n"
      ],
      "metadata": {
        "colab": {
          "base_uri": "https://localhost:8080/"
        },
        "id": "qmiCBfpisiEN",
        "outputId": "9d6a2f95-a8fd-4f27-9e24-996aaa24e6a5"
      },
      "execution_count": null,
      "outputs": [
        {
          "output_type": "stream",
          "name": "stdout",
          "text": [
            "Collecting SimpleITK\n",
            "  Downloading SimpleITK-2.4.1-cp311-abi3-manylinux_2_17_x86_64.manylinux2014_x86_64.whl.metadata (7.9 kB)\n",
            "Downloading SimpleITK-2.4.1-cp311-abi3-manylinux_2_17_x86_64.manylinux2014_x86_64.whl (52.3 MB)\n",
            "\u001b[2K   \u001b[90m━━━━━━━━━━━━━━━━━━━━━━━━━━━━━━━━━━━━━━━━\u001b[0m \u001b[32m52.3/52.3 MB\u001b[0m \u001b[31m18.3 MB/s\u001b[0m eta \u001b[36m0:00:00\u001b[0m\n",
            "\u001b[?25hInstalling collected packages: SimpleITK\n",
            "Successfully installed SimpleITK-2.4.1\n"
          ]
        }
      ]
    },
    {
      "cell_type": "code",
      "source": [
        "def normalize(image, min_bound=-1000.0, max_bound=400.0):\n",
        "    image = (image - min_bound) / (max_bound - min_bound)\n",
        "    image = np.clip(image, 0.0, 1.0)\n",
        "    return image\n"
      ],
      "metadata": {
        "id": "9GlNlZkZs73q"
      },
      "execution_count": null,
      "outputs": []
    },
    {
      "cell_type": "code",
      "source": [
        "def segment_lung_mask(image, threshold=-320):\n",
        "    binary_image = np.array(image > threshold, dtype=np.int8)\n",
        "    labels, num_labels = ndimage.label(binary_image)\n",
        "    sizes = ndimage.sum(binary_image, labels, range(num_labels + 1))\n",
        "\n",
        "    # Largest 2 components (lungs)\n",
        "    mask = np.zeros_like(image)\n",
        "    for label in np.argsort(sizes)[-2:]:\n",
        "        mask[labels == label] = 1\n",
        "    return mask * image\n"
      ],
      "metadata": {
        "id": "Hjog0xO_tAFN"
      },
      "execution_count": null,
      "outputs": []
    },
    {
      "cell_type": "code",
      "source": [
        "import cv2\n",
        "\n",
        "def process_slices(volume, desired_size=128):\n",
        "    processed = []\n",
        "    for slice in volume:\n",
        "        resized = cv2.resize(slice, (desired_size, desired_size))\n",
        "        processed.append(resized)\n",
        "    return np.array(processed)\n"
      ],
      "metadata": {
        "id": "KSJJ3VtXtESn"
      },
      "execution_count": null,
      "outputs": []
    },
    {
      "cell_type": "code",
      "source": [
        "import pandas as pd\n",
        "from scipy import ndimage\n",
        "import SimpleITK as sitk\n",
        "import numpy as np\n",
        "import cv2\n",
        "import os\n",
        "from tqdm import tqdm\n",
        "\n",
        "# --- Helper Functions ---\n",
        "def load_itk_image(filename):\n",
        "    itk_img = sitk.ReadImage(filename)\n",
        "    img_array = sitk.GetArrayFromImage(itk_img)  # z, y, x\n",
        "    origin = np.array(itk_img.GetOrigin())       # x, y, z\n",
        "    spacing = np.array(itk_img.GetSpacing())     # x, y, z\n",
        "    return img_array, origin, spacing\n",
        "\n",
        "def normalize(image, min_bound=-1000.0, max_bound=400.0):\n",
        "    image = (image - min_bound) / (max_bound - min_bound)\n",
        "    return np.clip(image, 0.0, 1.0)\n",
        "\n",
        "def segment_lung_mask(image, threshold=-320):\n",
        "    binary_image = np.array(image > threshold, dtype=np.int8)\n",
        "    labels, num_labels = ndimage.label(binary_image)\n",
        "    sizes = ndimage.sum(binary_image, labels, range(num_labels + 1))\n",
        "    mask = np.zeros_like(image)\n",
        "    for label in np.argsort(sizes)[-2:]:\n",
        "        mask[labels == label] = 1\n",
        "    return mask * image\n",
        "\n",
        "def process_slices(volume, desired_size=128):\n",
        "    processed = []\n",
        "    for slice in volume:\n",
        "        resized = cv2.resize(slice, (desired_size, desired_size))\n",
        "        processed.append(resized)\n",
        "    return np.array(processed)\n",
        "\n",
        "# --- Main Dataset Builder ---\n",
        "def build_dataset(subset_folders, annotations_file, max_patients=50):\n",
        "    annotations = pd.read_csv(annotations_file)\n",
        "    data = []\n",
        "    labels = []\n",
        "\n",
        "    patient_count = 0\n",
        "\n",
        "    for subset_folder in subset_folders:\n",
        "        print(f\"📂 Processing {subset_folder} ...\")\n",
        "        scan_files = [f for f in os.listdir(subset_folder) if f.endswith(\".mhd\")]\n",
        "\n",
        "        for scan_file in tqdm(scan_files):\n",
        "            series_uid = scan_file.replace(\".mhd\", \"\")\n",
        "            scan_path = os.path.join(subset_folder, scan_file)\n",
        "\n",
        "            # Get nodule annotations for this scan\n",
        "            nodules = annotations[annotations['seriesuid'] == series_uid]\n",
        "\n",
        "            label = 1 if len(nodules) > 0 else 0\n",
        "\n",
        "            try:\n",
        "                scan, origin, spacing = load_itk_image(scan_path)\n",
        "                scan = normalize(scan)\n",
        "                scan = segment_lung_mask(scan)\n",
        "                scan = process_slices(scan, 128)\n",
        "\n",
        "                # Take 10 central slices only\n",
        "                mid = scan.shape[0] // 2\n",
        "                selected_slices = scan[mid-5:mid+5]\n",
        "\n",
        "                for img in selected_slices:\n",
        "                    data.append(img)\n",
        "                    labels.append(label)\n",
        "\n",
        "                patient_count += 1\n",
        "                if patient_count >= max_patients:\n",
        "                    break\n",
        "            except Exception as e:\n",
        "                print(f\"⚠️ Error loading {scan_file}: {e}\")\n",
        "                continue\n",
        "        if patient_count >= max_patients:\n",
        "            break\n",
        "\n",
        "    X = np.expand_dims(np.array(data), axis=-1)  # (samples, 128, 128, 1)\n",
        "    y = np.array(labels)\n",
        "    print(f\"✅ Dataset built: {X.shape[0]} samples\")\n",
        "    return X, y\n"
      ],
      "metadata": {
        "id": "TbvD9wy7tHR0"
      },
      "execution_count": null,
      "outputs": []
    },
    {
      "cell_type": "code",
      "source": [
        "subset_paths = [\n",
        "    \"/content/LUNA16/subset0/subset0\",\n",
        "    \"/content/LUNA16/subset1/subset1\",\n",
        "    \"/content/LUNA16/subset2/subset2\",\n",
        "    \"/content/LUNA16/subset3/subset3\",\n",
        "    \"/content/LUNA16/subset4/subset4\",\n",
        "    \"/content/LUNA16/subset5/subset5\",\n",
        "    \"/content/LUNA16/subset6/subset6\"\n",
        "]\n",
        "\n",
        "annotations_path = \"/content/drive/MyDrive/LUNA16/annotations.csv\"\n",
        "\n",
        "X, y = build_dataset(subset_paths, annotations_path, max_patients=100)\n"
      ],
      "metadata": {
        "colab": {
          "base_uri": "https://localhost:8080/",
          "height": 353
        },
        "id": "vkQ_xNUV2pvO",
        "outputId": "0ef2e4a7-c861-440a-b0f0-17d23915d897"
      },
      "execution_count": null,
      "outputs": [
        {
          "output_type": "error",
          "ename": "FileNotFoundError",
          "evalue": "[Errno 2] No such file or directory: '/content/drive/MyDrive/LUNA16/annotations.csv'",
          "traceback": [
            "\u001b[0;31m---------------------------------------------------------------------------\u001b[0m",
            "\u001b[0;31mFileNotFoundError\u001b[0m                         Traceback (most recent call last)",
            "\u001b[0;32m<ipython-input-16-a842b4a2f767>\u001b[0m in \u001b[0;36m<cell line: 0>\u001b[0;34m()\u001b[0m\n\u001b[1;32m     11\u001b[0m \u001b[0mannotations_path\u001b[0m \u001b[0;34m=\u001b[0m \u001b[0;34m\"/content/drive/MyDrive/LUNA16/annotations.csv\"\u001b[0m\u001b[0;34m\u001b[0m\u001b[0;34m\u001b[0m\u001b[0m\n\u001b[1;32m     12\u001b[0m \u001b[0;34m\u001b[0m\u001b[0m\n\u001b[0;32m---> 13\u001b[0;31m \u001b[0mX\u001b[0m\u001b[0;34m,\u001b[0m \u001b[0my\u001b[0m \u001b[0;34m=\u001b[0m \u001b[0mbuild_dataset\u001b[0m\u001b[0;34m(\u001b[0m\u001b[0msubset_paths\u001b[0m\u001b[0;34m,\u001b[0m \u001b[0mannotations_path\u001b[0m\u001b[0;34m,\u001b[0m \u001b[0mmax_patients\u001b[0m\u001b[0;34m=\u001b[0m\u001b[0;36m100\u001b[0m\u001b[0;34m)\u001b[0m\u001b[0;34m\u001b[0m\u001b[0;34m\u001b[0m\u001b[0m\n\u001b[0m",
            "\u001b[0;32m<ipython-input-15-6eba5013306d>\u001b[0m in \u001b[0;36mbuild_dataset\u001b[0;34m(subset_folders, annotations_file, max_patients)\u001b[0m\n\u001b[1;32m     37\u001b[0m \u001b[0;31m# --- Main Dataset Builder ---\u001b[0m\u001b[0;34m\u001b[0m\u001b[0;34m\u001b[0m\u001b[0m\n\u001b[1;32m     38\u001b[0m \u001b[0;32mdef\u001b[0m \u001b[0mbuild_dataset\u001b[0m\u001b[0;34m(\u001b[0m\u001b[0msubset_folders\u001b[0m\u001b[0;34m,\u001b[0m \u001b[0mannotations_file\u001b[0m\u001b[0;34m,\u001b[0m \u001b[0mmax_patients\u001b[0m\u001b[0;34m=\u001b[0m\u001b[0;36m50\u001b[0m\u001b[0;34m)\u001b[0m\u001b[0;34m:\u001b[0m\u001b[0;34m\u001b[0m\u001b[0;34m\u001b[0m\u001b[0m\n\u001b[0;32m---> 39\u001b[0;31m     \u001b[0mannotations\u001b[0m \u001b[0;34m=\u001b[0m \u001b[0mpd\u001b[0m\u001b[0;34m.\u001b[0m\u001b[0mread_csv\u001b[0m\u001b[0;34m(\u001b[0m\u001b[0mannotations_file\u001b[0m\u001b[0;34m)\u001b[0m\u001b[0;34m\u001b[0m\u001b[0;34m\u001b[0m\u001b[0m\n\u001b[0m\u001b[1;32m     40\u001b[0m     \u001b[0mdata\u001b[0m \u001b[0;34m=\u001b[0m \u001b[0;34m[\u001b[0m\u001b[0;34m]\u001b[0m\u001b[0;34m\u001b[0m\u001b[0;34m\u001b[0m\u001b[0m\n\u001b[1;32m     41\u001b[0m     \u001b[0mlabels\u001b[0m \u001b[0;34m=\u001b[0m \u001b[0;34m[\u001b[0m\u001b[0;34m]\u001b[0m\u001b[0;34m\u001b[0m\u001b[0;34m\u001b[0m\u001b[0m\n",
            "\u001b[0;32m/usr/local/lib/python3.11/dist-packages/pandas/io/parsers/readers.py\u001b[0m in \u001b[0;36mread_csv\u001b[0;34m(filepath_or_buffer, sep, delimiter, header, names, index_col, usecols, dtype, engine, converters, true_values, false_values, skipinitialspace, skiprows, skipfooter, nrows, na_values, keep_default_na, na_filter, verbose, skip_blank_lines, parse_dates, infer_datetime_format, keep_date_col, date_parser, date_format, dayfirst, cache_dates, iterator, chunksize, compression, thousands, decimal, lineterminator, quotechar, quoting, doublequote, escapechar, comment, encoding, encoding_errors, dialect, on_bad_lines, delim_whitespace, low_memory, memory_map, float_precision, storage_options, dtype_backend)\u001b[0m\n\u001b[1;32m   1024\u001b[0m     \u001b[0mkwds\u001b[0m\u001b[0;34m.\u001b[0m\u001b[0mupdate\u001b[0m\u001b[0;34m(\u001b[0m\u001b[0mkwds_defaults\u001b[0m\u001b[0;34m)\u001b[0m\u001b[0;34m\u001b[0m\u001b[0;34m\u001b[0m\u001b[0m\n\u001b[1;32m   1025\u001b[0m \u001b[0;34m\u001b[0m\u001b[0m\n\u001b[0;32m-> 1026\u001b[0;31m     \u001b[0;32mreturn\u001b[0m \u001b[0m_read\u001b[0m\u001b[0;34m(\u001b[0m\u001b[0mfilepath_or_buffer\u001b[0m\u001b[0;34m,\u001b[0m \u001b[0mkwds\u001b[0m\u001b[0;34m)\u001b[0m\u001b[0;34m\u001b[0m\u001b[0;34m\u001b[0m\u001b[0m\n\u001b[0m\u001b[1;32m   1027\u001b[0m \u001b[0;34m\u001b[0m\u001b[0m\n\u001b[1;32m   1028\u001b[0m \u001b[0;34m\u001b[0m\u001b[0m\n",
            "\u001b[0;32m/usr/local/lib/python3.11/dist-packages/pandas/io/parsers/readers.py\u001b[0m in \u001b[0;36m_read\u001b[0;34m(filepath_or_buffer, kwds)\u001b[0m\n\u001b[1;32m    618\u001b[0m \u001b[0;34m\u001b[0m\u001b[0m\n\u001b[1;32m    619\u001b[0m     \u001b[0;31m# Create the parser.\u001b[0m\u001b[0;34m\u001b[0m\u001b[0;34m\u001b[0m\u001b[0m\n\u001b[0;32m--> 620\u001b[0;31m     \u001b[0mparser\u001b[0m \u001b[0;34m=\u001b[0m \u001b[0mTextFileReader\u001b[0m\u001b[0;34m(\u001b[0m\u001b[0mfilepath_or_buffer\u001b[0m\u001b[0;34m,\u001b[0m \u001b[0;34m**\u001b[0m\u001b[0mkwds\u001b[0m\u001b[0;34m)\u001b[0m\u001b[0;34m\u001b[0m\u001b[0;34m\u001b[0m\u001b[0m\n\u001b[0m\u001b[1;32m    621\u001b[0m \u001b[0;34m\u001b[0m\u001b[0m\n\u001b[1;32m    622\u001b[0m     \u001b[0;32mif\u001b[0m \u001b[0mchunksize\u001b[0m \u001b[0;32mor\u001b[0m \u001b[0miterator\u001b[0m\u001b[0;34m:\u001b[0m\u001b[0;34m\u001b[0m\u001b[0;34m\u001b[0m\u001b[0m\n",
            "\u001b[0;32m/usr/local/lib/python3.11/dist-packages/pandas/io/parsers/readers.py\u001b[0m in \u001b[0;36m__init__\u001b[0;34m(self, f, engine, **kwds)\u001b[0m\n\u001b[1;32m   1618\u001b[0m \u001b[0;34m\u001b[0m\u001b[0m\n\u001b[1;32m   1619\u001b[0m         \u001b[0mself\u001b[0m\u001b[0;34m.\u001b[0m\u001b[0mhandles\u001b[0m\u001b[0;34m:\u001b[0m \u001b[0mIOHandles\u001b[0m \u001b[0;34m|\u001b[0m \u001b[0;32mNone\u001b[0m \u001b[0;34m=\u001b[0m \u001b[0;32mNone\u001b[0m\u001b[0;34m\u001b[0m\u001b[0;34m\u001b[0m\u001b[0m\n\u001b[0;32m-> 1620\u001b[0;31m         \u001b[0mself\u001b[0m\u001b[0;34m.\u001b[0m\u001b[0m_engine\u001b[0m \u001b[0;34m=\u001b[0m \u001b[0mself\u001b[0m\u001b[0;34m.\u001b[0m\u001b[0m_make_engine\u001b[0m\u001b[0;34m(\u001b[0m\u001b[0mf\u001b[0m\u001b[0;34m,\u001b[0m \u001b[0mself\u001b[0m\u001b[0;34m.\u001b[0m\u001b[0mengine\u001b[0m\u001b[0;34m)\u001b[0m\u001b[0;34m\u001b[0m\u001b[0;34m\u001b[0m\u001b[0m\n\u001b[0m\u001b[1;32m   1621\u001b[0m \u001b[0;34m\u001b[0m\u001b[0m\n\u001b[1;32m   1622\u001b[0m     \u001b[0;32mdef\u001b[0m \u001b[0mclose\u001b[0m\u001b[0;34m(\u001b[0m\u001b[0mself\u001b[0m\u001b[0;34m)\u001b[0m \u001b[0;34m->\u001b[0m \u001b[0;32mNone\u001b[0m\u001b[0;34m:\u001b[0m\u001b[0;34m\u001b[0m\u001b[0;34m\u001b[0m\u001b[0m\n",
            "\u001b[0;32m/usr/local/lib/python3.11/dist-packages/pandas/io/parsers/readers.py\u001b[0m in \u001b[0;36m_make_engine\u001b[0;34m(self, f, engine)\u001b[0m\n\u001b[1;32m   1878\u001b[0m                 \u001b[0;32mif\u001b[0m \u001b[0;34m\"b\"\u001b[0m \u001b[0;32mnot\u001b[0m \u001b[0;32min\u001b[0m \u001b[0mmode\u001b[0m\u001b[0;34m:\u001b[0m\u001b[0;34m\u001b[0m\u001b[0;34m\u001b[0m\u001b[0m\n\u001b[1;32m   1879\u001b[0m                     \u001b[0mmode\u001b[0m \u001b[0;34m+=\u001b[0m \u001b[0;34m\"b\"\u001b[0m\u001b[0;34m\u001b[0m\u001b[0;34m\u001b[0m\u001b[0m\n\u001b[0;32m-> 1880\u001b[0;31m             self.handles = get_handle(\n\u001b[0m\u001b[1;32m   1881\u001b[0m                 \u001b[0mf\u001b[0m\u001b[0;34m,\u001b[0m\u001b[0;34m\u001b[0m\u001b[0;34m\u001b[0m\u001b[0m\n\u001b[1;32m   1882\u001b[0m                 \u001b[0mmode\u001b[0m\u001b[0;34m,\u001b[0m\u001b[0;34m\u001b[0m\u001b[0;34m\u001b[0m\u001b[0m\n",
            "\u001b[0;32m/usr/local/lib/python3.11/dist-packages/pandas/io/common.py\u001b[0m in \u001b[0;36mget_handle\u001b[0;34m(path_or_buf, mode, encoding, compression, memory_map, is_text, errors, storage_options)\u001b[0m\n\u001b[1;32m    871\u001b[0m         \u001b[0;32mif\u001b[0m \u001b[0mioargs\u001b[0m\u001b[0;34m.\u001b[0m\u001b[0mencoding\u001b[0m \u001b[0;32mand\u001b[0m \u001b[0;34m\"b\"\u001b[0m \u001b[0;32mnot\u001b[0m \u001b[0;32min\u001b[0m \u001b[0mioargs\u001b[0m\u001b[0;34m.\u001b[0m\u001b[0mmode\u001b[0m\u001b[0;34m:\u001b[0m\u001b[0;34m\u001b[0m\u001b[0;34m\u001b[0m\u001b[0m\n\u001b[1;32m    872\u001b[0m             \u001b[0;31m# Encoding\u001b[0m\u001b[0;34m\u001b[0m\u001b[0;34m\u001b[0m\u001b[0m\n\u001b[0;32m--> 873\u001b[0;31m             handle = open(\n\u001b[0m\u001b[1;32m    874\u001b[0m                 \u001b[0mhandle\u001b[0m\u001b[0;34m,\u001b[0m\u001b[0;34m\u001b[0m\u001b[0;34m\u001b[0m\u001b[0m\n\u001b[1;32m    875\u001b[0m                 \u001b[0mioargs\u001b[0m\u001b[0;34m.\u001b[0m\u001b[0mmode\u001b[0m\u001b[0;34m,\u001b[0m\u001b[0;34m\u001b[0m\u001b[0;34m\u001b[0m\u001b[0m\n",
            "\u001b[0;31mFileNotFoundError\u001b[0m: [Errno 2] No such file or directory: '/content/drive/MyDrive/LUNA16/annotations.csv'"
          ]
        }
      ]
    },
    {
      "cell_type": "code",
      "source": [
        "import os\n",
        "\n",
        "print(os.path.exists('/content/drive/MyDrive/LUNA16/annotations.csv'))\n"
      ],
      "metadata": {
        "colab": {
          "base_uri": "https://localhost:8080/"
        },
        "id": "Fkd0jdpG25Mf",
        "outputId": "2ce69b97-c31c-4698-88d3-c10f9d367c23"
      },
      "execution_count": null,
      "outputs": [
        {
          "output_type": "stream",
          "name": "stdout",
          "text": [
            "False\n"
          ]
        }
      ]
    },
    {
      "cell_type": "code",
      "source": [
        "!wget -O \"/content/drive/MyDrive/LUNA16/annotations.csv\" \"https://zenodo.org/records/3723295/files/annotations.csv?download=1\"\n"
      ],
      "metadata": {
        "colab": {
          "base_uri": "https://localhost:8080/"
        },
        "id": "b1kkK8LF26vO",
        "outputId": "471102a2-0c6a-4d10-95a8-62b27927e119"
      },
      "execution_count": null,
      "outputs": [
        {
          "output_type": "stream",
          "name": "stdout",
          "text": [
            "/content/drive/MyDrive/LUNA16/annotations.csv: No such file or directory\n"
          ]
        }
      ]
    },
    {
      "cell_type": "code",
      "source": [
        "!mkdir -p \"/content/drive/MyDrive/LUNA16\"\n",
        "!wget -O \"/content/drive/MyDrive/LUNA16/annotations.csv\" \"https://zenodo.org/records/3723295/files/annotations.csv?download=1\"\n"
      ],
      "metadata": {
        "colab": {
          "base_uri": "https://localhost:8080/"
        },
        "id": "SdpfoAPX3EUM",
        "outputId": "0c3fd4d1-7632-431e-e6ff-a3e8626ad857"
      },
      "execution_count": null,
      "outputs": [
        {
          "output_type": "stream",
          "name": "stdout",
          "text": [
            "--2025-04-15 14:30:37--  https://zenodo.org/records/3723295/files/annotations.csv?download=1\n",
            "Resolving zenodo.org (zenodo.org)... 188.185.45.92, 188.185.48.194, 188.185.43.25, ...\n",
            "Connecting to zenodo.org (zenodo.org)|188.185.45.92|:443... connected.\n",
            "HTTP request sent, awaiting response... 200 OK\n",
            "Length: 136986 (134K) [text/plain]\n",
            "Saving to: ‘/content/drive/MyDrive/LUNA16/annotations.csv’\n",
            "\n",
            "/content/drive/MyDr 100%[===================>] 133.78K   280KB/s    in 0.5s    \n",
            "\n",
            "2025-04-15 14:30:38 (280 KB/s) - ‘/content/drive/MyDrive/LUNA16/annotations.csv’ saved [136986/136986]\n",
            "\n"
          ]
        }
      ]
    },
    {
      "cell_type": "code",
      "source": [
        "import os\n",
        "print(os.path.exists('/content/drive/MyDrive/LUNA16/annotations.csv'))  # Should return True\n"
      ],
      "metadata": {
        "colab": {
          "base_uri": "https://localhost:8080/"
        },
        "id": "ivOHbyal3GaU",
        "outputId": "6e882034-9868-4e99-c06b-f2d6e301fd98"
      },
      "execution_count": null,
      "outputs": [
        {
          "output_type": "stream",
          "name": "stdout",
          "text": [
            "True\n"
          ]
        }
      ]
    },
    {
      "cell_type": "code",
      "source": [
        "annotations_path = \"/content/drive/MyDrive/LUNA16/annotations.csv\"\n",
        "X, y = build_dataset(subset_paths, annotations_path, max_patients=100)\n"
      ],
      "metadata": {
        "colab": {
          "base_uri": "https://localhost:8080/",
          "height": 311
        },
        "id": "ZIcumSRq3Kim",
        "outputId": "04ff319d-c00c-414c-a59d-bb1c637e3a50"
      },
      "execution_count": null,
      "outputs": [
        {
          "output_type": "stream",
          "name": "stdout",
          "text": [
            "📂 Processing /content/LUNA16/subset0/subset0 ...\n"
          ]
        },
        {
          "output_type": "error",
          "ename": "FileNotFoundError",
          "evalue": "[Errno 2] No such file or directory: '/content/LUNA16/subset0/subset0'",
          "traceback": [
            "\u001b[0;31m---------------------------------------------------------------------------\u001b[0m",
            "\u001b[0;31mFileNotFoundError\u001b[0m                         Traceback (most recent call last)",
            "\u001b[0;32m<ipython-input-21-b74d86d36f42>\u001b[0m in \u001b[0;36m<cell line: 0>\u001b[0;34m()\u001b[0m\n\u001b[1;32m      1\u001b[0m \u001b[0mannotations_path\u001b[0m \u001b[0;34m=\u001b[0m \u001b[0;34m\"/content/drive/MyDrive/LUNA16/annotations.csv\"\u001b[0m\u001b[0;34m\u001b[0m\u001b[0;34m\u001b[0m\u001b[0m\n\u001b[0;32m----> 2\u001b[0;31m \u001b[0mX\u001b[0m\u001b[0;34m,\u001b[0m \u001b[0my\u001b[0m \u001b[0;34m=\u001b[0m \u001b[0mbuild_dataset\u001b[0m\u001b[0;34m(\u001b[0m\u001b[0msubset_paths\u001b[0m\u001b[0;34m,\u001b[0m \u001b[0mannotations_path\u001b[0m\u001b[0;34m,\u001b[0m \u001b[0mmax_patients\u001b[0m\u001b[0;34m=\u001b[0m\u001b[0;36m100\u001b[0m\u001b[0;34m)\u001b[0m\u001b[0;34m\u001b[0m\u001b[0;34m\u001b[0m\u001b[0m\n\u001b[0m",
            "\u001b[0;32m<ipython-input-15-6eba5013306d>\u001b[0m in \u001b[0;36mbuild_dataset\u001b[0;34m(subset_folders, annotations_file, max_patients)\u001b[0m\n\u001b[1;32m     45\u001b[0m     \u001b[0;32mfor\u001b[0m \u001b[0msubset_folder\u001b[0m \u001b[0;32min\u001b[0m \u001b[0msubset_folders\u001b[0m\u001b[0;34m:\u001b[0m\u001b[0;34m\u001b[0m\u001b[0;34m\u001b[0m\u001b[0m\n\u001b[1;32m     46\u001b[0m         \u001b[0mprint\u001b[0m\u001b[0;34m(\u001b[0m\u001b[0;34mf\"📂 Processing {subset_folder} ...\"\u001b[0m\u001b[0;34m)\u001b[0m\u001b[0;34m\u001b[0m\u001b[0;34m\u001b[0m\u001b[0m\n\u001b[0;32m---> 47\u001b[0;31m         \u001b[0mscan_files\u001b[0m \u001b[0;34m=\u001b[0m \u001b[0;34m[\u001b[0m\u001b[0mf\u001b[0m \u001b[0;32mfor\u001b[0m \u001b[0mf\u001b[0m \u001b[0;32min\u001b[0m \u001b[0mos\u001b[0m\u001b[0;34m.\u001b[0m\u001b[0mlistdir\u001b[0m\u001b[0;34m(\u001b[0m\u001b[0msubset_folder\u001b[0m\u001b[0;34m)\u001b[0m \u001b[0;32mif\u001b[0m \u001b[0mf\u001b[0m\u001b[0;34m.\u001b[0m\u001b[0mendswith\u001b[0m\u001b[0;34m(\u001b[0m\u001b[0;34m\".mhd\"\u001b[0m\u001b[0;34m)\u001b[0m\u001b[0;34m]\u001b[0m\u001b[0;34m\u001b[0m\u001b[0;34m\u001b[0m\u001b[0m\n\u001b[0m\u001b[1;32m     48\u001b[0m \u001b[0;34m\u001b[0m\u001b[0m\n\u001b[1;32m     49\u001b[0m         \u001b[0;32mfor\u001b[0m \u001b[0mscan_file\u001b[0m \u001b[0;32min\u001b[0m \u001b[0mtqdm\u001b[0m\u001b[0;34m(\u001b[0m\u001b[0mscan_files\u001b[0m\u001b[0;34m)\u001b[0m\u001b[0;34m:\u001b[0m\u001b[0;34m\u001b[0m\u001b[0;34m\u001b[0m\u001b[0m\n",
            "\u001b[0;31mFileNotFoundError\u001b[0m: [Errno 2] No such file or directory: '/content/LUNA16/subset0/subset0'"
          ]
        }
      ]
    }
  ]
}